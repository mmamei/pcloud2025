{
 "cells": [
  {
   "cell_type": "markdown",
   "metadata": {},
   "source": [
    "# Firestore main \n",
    "\n",
    "<image src=\"figures/firestore1.png\" width=300>"
   ]
  },
  {
   "cell_type": "code",
   "execution_count": 22,
   "metadata": {},
   "outputs": [],
   "source": [
    "from google.cloud import firestore\n",
    "db = 'test1'\n",
    "db = firestore.Client.from_service_account_json('credentials.json', database=db)"
   ]
  },
  {
   "cell_type": "markdown",
   "metadata": {},
   "source": [
    "**Plase note** that here the service account is required- However, if we use firestore in a flask application deployed in Google App Engine (PaaS) the service account is no longer needed, because the application is automatically able to access the firestore service.\n",
    "\n",
    "*db = firestore.Client(database=db)*"
   ]
  },
  {
   "cell_type": "markdown",
   "metadata": {},
   "source": [
    "### Entity Creation (Document)"
   ]
  },
  {
   "cell_type": "code",
   "execution_count": 11,
   "metadata": {},
   "outputs": [
    {
     "name": "stdout",
     "output_type": "stream",
     "text": [
      "document1\n"
     ]
    }
   ],
   "source": [
    "coll = 'coll_test'\n",
    "id = 'document1'\n",
    "doc_ref = db.collection(coll).document(id) # id can be omitted and it will be generated automatically\n",
    "doc_ref.set({'nome':'sensor','value': [{'val':2}]})\n",
    "print(doc_ref.get().id)"
   ]
  },
  {
   "cell_type": "markdown",
   "metadata": {},
   "source": [
    "### Entity Removal"
   ]
  },
  {
   "cell_type": "code",
   "execution_count": 8,
   "metadata": {},
   "outputs": [
    {
     "data": {
      "text/plain": [
       "DatetimeWithNanoseconds(2025, 4, 3, 11, 29, 48, 959712, tzinfo=datetime.timezone.utc)"
      ]
     },
     "execution_count": 8,
     "metadata": {},
     "output_type": "execute_result"
    }
   ],
   "source": [
    "id = 'document1'\n",
    "doc_ref = db.collection(coll).document(id)\n",
    "doc_ref.delete()"
   ]
  },
  {
   "cell_type": "markdown",
   "metadata": {},
   "source": [
    "### Access Entity given id\n",
    "\n",
    "\n",
    "**Attention** To access a document you have to use a the document itself (entity) not the reference to a document (doc_ref). This is why there is a *.get()* at the end of the second line"
   ]
  },
  {
   "cell_type": "code",
   "execution_count": 12,
   "metadata": {},
   "outputs": [
    {
     "name": "stdout",
     "output_type": "stream",
     "text": [
      "True\n",
      "{'value': [{'val': 2}], 'nome': 'sensor'}\n",
      "['value', 'nome']\n",
      "document1 ---> sensor\n",
      "document1 ---> [{'val': 2}]\n",
      "3\n"
     ]
    }
   ],
   "source": [
    "# accesso a un documento specifico (dato l'id)\n",
    "id = 'document1'\n",
    "entity = db.collection(coll).document(id).get()\n",
    "print(entity.exists)\n",
    "print(entity.to_dict())\n",
    "if not entity.exists:\n",
    "    print('L\\' entità non esiste')\n",
    "else:\n",
    "    print(list(entity.to_dict().keys()))\n",
    "    print(entity.id,'--->',entity.to_dict()['nome'])\n",
    "    print(entity.id,'--->',entity.to_dict()['value'])\n",
    "    print(1 + entity.to_dict()['value'][0]['val'])"
   ]
  },
  {
   "cell_type": "markdown",
   "metadata": {},
   "source": [
    "### Modify Entity\n",
    "\n",
    "Add an element or modify an element in the dictionary. \n",
    "The same code of the creation of an entiry allows to change the whole dictionary\n",
    "\n",
    "**Attention** To modify a document you have to use a reference to the document (doc_ref) not the document itself (entity)\n"
   ]
  },
  {
   "cell_type": "code",
   "execution_count": 13,
   "metadata": {},
   "outputs": [
    {
     "data": {
      "text/plain": [
       "update_time {\n",
       "  seconds: 1743679802\n",
       "  nanos: 601350000\n",
       "}"
      ]
     },
     "execution_count": 13,
     "metadata": {},
     "output_type": "execute_result"
    }
   ],
   "source": [
    "id = 'document1'\n",
    "doc_ref = db.collection(coll).document(id)\n",
    "doc_ref.update({'nome':'sensor2'})\n",
    "doc_ref.update({'value2':5})\n"
   ]
  },
  {
   "cell_type": "markdown",
   "metadata": {},
   "source": [
    "Increment "
   ]
  },
  {
   "cell_type": "code",
   "execution_count": 14,
   "metadata": {},
   "outputs": [
    {
     "name": "stdout",
     "output_type": "stream",
     "text": [
      "56\n"
     ]
    }
   ],
   "source": [
    "id = 'document1'\n",
    "doc_ref = db.collection(coll).document(id)\n",
    "doc_ref.update({'value2': doc_ref.get().to_dict()['value2']+1})\n",
    "doc_ref.update({'value2': firestore.Increment(50)})\n",
    "print(doc_ref.get().to_dict()['value2'])"
   ]
  },
  {
   "cell_type": "markdown",
   "metadata": {},
   "source": [
    "### Queries"
   ]
  },
  {
   "cell_type": "code",
   "execution_count": 15,
   "metadata": {},
   "outputs": [
    {
     "name": "stdout",
     "output_type": "stream",
     "text": [
      "document1 --> {'value': [{'val': 2}], 'nome': 'sensor2', 'value2': 56}\n"
     ]
    }
   ],
   "source": [
    "for entity in db.collection(coll).stream(): # select * from coll_test\n",
    "        print(f'{entity.id} --> {entity.to_dict()}')\n"
   ]
  },
  {
   "cell_type": "code",
   "execution_count": 21,
   "metadata": {},
   "outputs": [
    {
     "name": "stderr",
     "output_type": "stream",
     "text": [
      "c:\\Users\\marco\\Dropbox\\Code\\PYTHON\\PCLOUD25\\venv\\Lib\\site-packages\\google\\cloud\\firestore_v1\\base_collection.py:303: UserWarning: Detected filter using positional arguments. Prefer using the 'filter' keyword argument instead.\n",
      "  return query.where(field_path, op_string, value)\n"
     ]
    }
   ],
   "source": [
    "from google.cloud.firestore import FieldFilter\n",
    "\n",
    "for entity in db.collection(coll).where('value2','>',100).stream():\n",
    "#for entity in db.collection(coll).where(filter=FieldFilter(\"value2\", \">\", 100)).stream():\n",
    "\n",
    "    \n",
    "    print(f'{entity.id} --> {entity.to_dict()}')\n"
   ]
  }
 ],
 "metadata": {
  "kernelspec": {
   "display_name": "venv",
   "language": "python",
   "name": "python3"
  },
  "language_info": {
   "codemirror_mode": {
    "name": "ipython",
    "version": 3
   },
   "file_extension": ".py",
   "mimetype": "text/x-python",
   "name": "python",
   "nbconvert_exporter": "python",
   "pygments_lexer": "ipython3",
   "version": "3.12.2"
  }
 },
 "nbformat": 4,
 "nbformat_minor": 2
}
